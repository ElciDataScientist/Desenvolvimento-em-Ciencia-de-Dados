{
  "nbformat": 4,
  "nbformat_minor": 0,
  "metadata": {
    "colab": {
      "provenance": []
    },
    "kernelspec": {
      "name": "python3",
      "display_name": "Python 3"
    },
    "language_info": {
      "name": "python"
    }
  },
  "cells": [
    {
      "cell_type": "markdown",
      "source": [
        "# **1. Entendimento do Negócio**\n",
        "4 - Passos:\n",
        " - Entender o objetio do Negócio\n",
        " - Avaliar a situação\n",
        " - Enteder o objetivos de modelagem\n",
        " - Realizar o planejamento do projeto\n",
        "\n",
        "\n",
        "✅ **Ex: Qual é o produto? Valor agregado? Modelo de negócio? Dados disponiveis? qual o objetivo?**"
      ],
      "metadata": {
        "id": "5Be3vPWOCuD0"
      }
    },
    {
      "cell_type": "markdown",
      "source": [
        "# **2. Entendimento dos Dados**\n",
        "\n",
        "5 - Passos:\n",
        "- Fontes\n",
        "- Coleta\n",
        "- Descrever\n",
        "- Explorar\n",
        "- Qualidade\n",
        "\n",
        "✅ **Ex: De onde vem os dados? o que é os dados? Qualidade dos dados?**"
      ],
      "metadata": {
        "id": "FbfX3D7BC56Q"
      }
    },
    {
      "cell_type": "markdown",
      "source": [
        "# **3. Preparação do Dados**\n",
        "\n",
        "5 - Passos:\n",
        " - Seleção\n",
        " - Limpeza\n",
        " - Construção\n",
        " - Integração\n",
        " - Formatação\n",
        "\n",
        "✅ **Ex: Quais dados vai usar? Limpeza de dados? Contruir de base de dados unica? Dados na melhor escala?**"
      ],
      "metadata": {
        "id": "e6oFXqt_DCU6"
      }
    },
    {
      "cell_type": "markdown",
      "source": [
        "# **4. Modelagem**\n",
        "\n",
        "4 - Passos:\n",
        "- Técnica\n",
        "- Desing\n",
        "- Construção\n",
        "- Avaliação\n",
        "\n",
        "✅ **Ex: Quais técnicas(Regressão Logisticas, Random forest, Gradient boosting) organzação da tecnica? Varias Tentativas(Arte X Ciencia)? O que quero fazer?**"
      ],
      "metadata": {
        "id": "DBEc7NttDKzb"
      }
    },
    {
      "cell_type": "markdown",
      "source": [
        "# **5. Avaliação dos Resultados**\n",
        "3 - Passos:\n",
        "- Avaliar\n",
        "- Rever Processos\n",
        "- Proximos passos\n",
        "\n",
        "✅ **Ex: Como isso resolve o problema? Quanto de retorno vai trazer?**"
      ],
      "metadata": {
        "id": "LE7VWN-oC6L4"
      }
    },
    {
      "cell_type": "markdown",
      "source": [
        "# **6. Implantação**\n",
        "\n",
        "4 - Passos:\n",
        "- Implementação\n",
        "- Monitoramento\n",
        "- Relatório\n",
        "- Revisão\n",
        "\n",
        "✅ **Ex: Como vai ser utilizado? Monitorar o modelo(tipos de indicadores)? fazer o StorTelling? Fazer revisão geral?**"
      ],
      "metadata": {
        "id": "_H7KTDzTDYnN"
      }
    },
    {
      "cell_type": "markdown",
      "source": [],
      "metadata": {
        "id": "crKUY9HeDibj"
      }
    }
  ]
}