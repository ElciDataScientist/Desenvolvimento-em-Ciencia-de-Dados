{
  "nbformat": 4,
  "nbformat_minor": 0,
  "metadata": {
    "colab": {
      "provenance": []
    },
    "kernelspec": {
      "name": "python3",
      "display_name": "Python 3"
    },
    "language_info": {
      "name": "python"
    }
  },
  "cells": [
    {
      "cell_type": "code",
      "source": [
        "import math\n",
        "import numpy as np\n",
        "import pandas as pd"
      ],
      "metadata": {
        "id": "jk_8jBpO1V6q"
      },
      "execution_count": 16,
      "outputs": []
    },
    {
      "cell_type": "code",
      "execution_count": 17,
      "metadata": {
        "colab": {
          "base_uri": "https://localhost:8080/"
        },
        "id": "a7vIhblbH2UR",
        "outputId": "c052c106-f5e7-4349-8d06-e63a12055fcc"
      },
      "outputs": [
        {
          "output_type": "stream",
          "name": "stdout",
          "text": [
            "Indivíduo do sexo masculino\n"
          ]
        }
      ],
      "source": [
        "sexo = 'M'\n",
        "beta_hcg = 0\n",
        "\n",
        "if sexo == \"M\":\n",
        "  print(\"Indivíduo do sexo masculino\")\n",
        "elif sexo == \"F\":\n",
        "  if beta_hcg > 5:\n",
        "    print(\"Positivo\")\n",
        "  else:\n",
        "    print(\"Negativo\")"
      ]
    },
    {
      "cell_type": "code",
      "source": [
        "translations = {\n",
        "    \"name\": \"nome\",\n",
        "    \"age\": \"idade\",\n",
        "    \"income\": \"renda\"\n",
        "}"
      ],
      "metadata": {
        "id": "tHA7vEhJIKHg"
      },
      "execution_count": 18,
      "outputs": []
    },
    {
      "cell_type": "code",
      "source": [
        "N = 42\n",
        "M = 7\n",
        "\n",
        "if N % M == 0:\n",
        "  print(f\"{N} é divisível por {M}\")\n",
        "else:\n",
        "  print(f\"{N} não é divisível por {M}\")"
      ],
      "metadata": {
        "colab": {
          "base_uri": "https://localhost:8080/"
        },
        "id": "O8zBfIGaIwfK",
        "outputId": "f39788cd-18ea-4a17-9645-d8fff828d99d"
      },
      "execution_count": 19,
      "outputs": [
        {
          "output_type": "stream",
          "name": "stdout",
          "text": [
            "42 é divisível por 7\n"
          ]
        }
      ]
    },
    {
      "cell_type": "code",
      "source": [
        "N = 47\n",
        "\n",
        "is_prime = True\n",
        "\n",
        "for i in range(2, N):\n",
        "  if N % i == 0:\n",
        "    is_prime = False\n",
        "    break\n",
        "\n",
        "if is_prime:\n",
        "  print(f\"{N} é um número primo\")\n",
        "else:\n",
        "  print(f\"{N} não é um número primo\")"
      ],
      "metadata": {
        "colab": {
          "base_uri": "https://localhost:8080/"
        },
        "id": "NxElpvRuIxfi",
        "outputId": "c3ff55c2-f240-4b57-83ca-5f239f9391c4"
      },
      "execution_count": 20,
      "outputs": [
        {
          "output_type": "stream",
          "name": "stdout",
          "text": [
            "47 é um número primo\n"
          ]
        }
      ]
    },
    {
      "cell_type": "code",
      "source": [
        "import math\n",
        "\n",
        "N = 98\n",
        "\n",
        "is_prime = True\n",
        "\n",
        "for i in range(2, int(math.sqrt(N))+1):\n",
        "  if N % i == 0:\n",
        "    is_prime = False\n",
        "    break\n",
        "\n",
        "if is_prime:\n",
        "  print(f\"{N} é um número primo\")\n",
        "else:\n",
        "  print(f\"{N} não é um número primo\")"
      ],
      "metadata": {
        "colab": {
          "base_uri": "https://localhost:8080/"
        },
        "id": "mF9fJ1EZJDc_",
        "outputId": "e62f7b6e-5f6a-4697-d643-a0e99719b1b5"
      },
      "execution_count": 21,
      "outputs": [
        {
          "output_type": "stream",
          "name": "stdout",
          "text": [
            "98 não é um número primo\n"
          ]
        }
      ]
    },
    {
      "cell_type": "code",
      "source": [
        "ponto_medio = (18.5 + 24.9) / 2\n",
        "ponto_medio = 21.7"
      ],
      "metadata": {
        "id": "4odvjr-UJQCX"
      },
      "execution_count": 22,
      "outputs": []
    },
    {
      "cell_type": "code",
      "source": [
        "altura = 1.70\n",
        "IMC = 22.49\n",
        "\n",
        "peso = IMC * (altura)**2\n",
        "print(peso)"
      ],
      "metadata": {
        "colab": {
          "base_uri": "https://localhost:8080/"
        },
        "id": "gEoTabq41CNG",
        "outputId": "e33ba5f5-7d14-4e47-98c6-5b3ba1a12e09"
      },
      "execution_count": 24,
      "outputs": [
        {
          "output_type": "stream",
          "name": "stdout",
          "text": [
            "64.99609999999998\n"
          ]
        }
      ]
    },
    {
      "cell_type": "code",
      "source": [
        "IMC = peso / (altura**2)\n",
        "\n",
        "peso = IMC * (altura**2)\n",
        "peso = 22.49 * 2.89\n",
        "peso = 65.16"
      ],
      "metadata": {
        "id": "s9YY4h8i1MO0"
      },
      "execution_count": 25,
      "outputs": []
    },
    {
      "cell_type": "code",
      "source": [
        "lista_alturas = [1.95, 2.05, 1.70, 1.65]\n",
        "lista_peso_ideal = []\n",
        "\n",
        "for altura in lista_alturas:\n",
        "    peso_ideal = 24.9 * (altura ** 2)\n",
        "    lista_peso_ideal.append(peso_ideal)\n",
        "\n",
        "print(lista_peso_ideal)"
      ],
      "metadata": {
        "colab": {
          "base_uri": "https://localhost:8080/"
        },
        "id": "9KN1nPuKK6Oc",
        "outputId": "d43c0ef8-34d6-414f-f6bb-d218cf28513e"
      },
      "execution_count": 26,
      "outputs": [
        {
          "output_type": "stream",
          "name": "stdout",
          "text": [
            "[94.68224999999998, 104.64224999999999, 71.96099999999998, 67.79024999999999]\n"
          ]
        }
      ]
    },
    {
      "cell_type": "code",
      "source": [
        "altura_peso = [(1.80, 90), (1.65, 75), (1.91, 70)]\n",
        "imc = []\n",
        "\n",
        "for paciente in altura_peso:\n",
        "    altura = paciente[0]\n",
        "    peso = paciente[1]\n",
        "    imc.append(peso / (altura * altura))\n",
        "\n",
        "print(imc)"
      ],
      "metadata": {
        "colab": {
          "base_uri": "https://localhost:8080/"
        },
        "id": "fGtweSbiLPII",
        "outputId": "1b9933d1-f8eb-4a83-eae3-8282f70ac879"
      },
      "execution_count": 27,
      "outputs": [
        {
          "output_type": "stream",
          "name": "stdout",
          "text": [
            "[27.777777777777775, 27.548209366391188, 19.188070502453332]\n"
          ]
        }
      ]
    },
    {
      "cell_type": "code",
      "source": [
        "altura_peso = [[1.80, 90], [1.65, 75], [1.91, 70]]\n",
        "\n",
        "for paciente in altura_peso:\n",
        "    altura = paciente[0]\n",
        "    peso = paciente[1]\n",
        "    imc = peso / (altura * altura)\n",
        "    paciente.append(imc)\n",
        "    if imc < 18.5:\n",
        "        paciente.append(\"baixo\")\n",
        "    elif imc >= 18.5 and imc <= 24.9:\n",
        "        paciente.append(\"normal\")\n",
        "    else:\n",
        "        paciente.append(\"alto\")\n",
        "\n",
        "print(altura_peso)"
      ],
      "metadata": {
        "colab": {
          "base_uri": "https://localhost:8080/"
        },
        "id": "u8rlTeNnMyys",
        "outputId": "a31f134e-a601-4992-d056-6247e23eee1e"
      },
      "execution_count": 28,
      "outputs": [
        {
          "output_type": "stream",
          "name": "stdout",
          "text": [
            "[[1.8, 90, 27.777777777777775, 'alto'], [1.65, 75, 27.548209366391188, 'alto'], [1.91, 70, 19.188070502453332, 'normal']]\n"
          ]
        }
      ]
    }
  ]
}