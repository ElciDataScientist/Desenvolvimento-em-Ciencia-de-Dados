{
  "nbformat": 4,
  "nbformat_minor": 0,
  "metadata": {
    "colab": {
      "provenance": []
    },
    "kernelspec": {
      "name": "python3",
      "display_name": "Python 3"
    },
    "language_info": {
      "name": "python"
    }
  },
  "cells": [
    {
      "cell_type": "code",
      "execution_count": 1,
      "metadata": {
        "id": "YxI6H5IDgduW"
      },
      "outputs": [],
      "source": [
        "import numpy as np\n",
        "import pandas as pd"
      ]
    },
    {
      "cell_type": "code",
      "source": [
        "lista_de_centimetros = list(range(170, 190, 5))\n",
        "altura_em_centimetros = np.array(lista_de_centimetros)"
      ],
      "metadata": {
        "id": "Mn_GK3fughaa"
      },
      "execution_count": 2,
      "outputs": []
    },
    {
      "cell_type": "code",
      "source": [
        "altura_em_metros = altura_em_centimetros / 100"
      ],
      "metadata": {
        "id": "wTVMEtfvg-9e"
      },
      "execution_count": 3,
      "outputs": []
    },
    {
      "cell_type": "code",
      "source": [
        "lista_pesos = [70, 75, 80, 85]\n",
        "pesos = np.array(lista_pesos)"
      ],
      "metadata": {
        "id": "LcvFz9w5hCKP"
      },
      "execution_count": 5,
      "outputs": []
    },
    {
      "cell_type": "code",
      "source": [
        "imc = pesos / (altura_em_metros ** 2)"
      ],
      "metadata": {
        "id": "Ut37kCn3hTHH"
      },
      "execution_count": 6,
      "outputs": []
    },
    {
      "cell_type": "code",
      "source": [
        "dados_financeiros = [[3000, 2500, 1000, 10000],[1000, 2500, 3000, 5000],[6000, 5500, 7000, 16000]]\n",
        "nd_financeiros = np.array(dados_financeiros)"
      ],
      "metadata": {
        "id": "zSFqhRw2hV-_"
      },
      "execution_count": 7,
      "outputs": []
    },
    {
      "cell_type": "code",
      "source": [
        "nd_financeiros = nd_financeiros.transpose()\n",
        "print(\"Segunda linha do array:\", nd_financeiros[1, :])\n",
        "print(\"Segunda coluna do array:\", nd_financeiros[:, 1])"
      ],
      "metadata": {
        "colab": {
          "base_uri": "https://localhost:8080/"
        },
        "id": "YBWF9A9Zhpzv",
        "outputId": "706cfed7-2777-4987-e470-29daaf1d5588"
      },
      "execution_count": 8,
      "outputs": [
        {
          "output_type": "stream",
          "name": "stdout",
          "text": [
            "Segunda linha do array: [2500 2500 5500]\n",
            "Segunda coluna do array: [1000 2500 3000 5000]\n"
          ]
        }
      ]
    },
    {
      "cell_type": "code",
      "source": [
        "endividamento_total = (nd_financeiros[:, 0] + nd_financeiros[:, 1]) / nd_financeiros[:, 2]\n",
        "print(endividamento_total)"
      ],
      "metadata": {
        "colab": {
          "base_uri": "https://localhost:8080/"
        },
        "id": "Qv-JUcVShrtX",
        "outputId": "25e17ddb-25a2-4ca8-b82e-ca57c1471642"
      },
      "execution_count": 9,
      "outputs": [
        {
          "output_type": "stream",
          "name": "stdout",
          "text": [
            "[0.66666667 0.90909091 0.57142857 0.9375    ]\n"
          ]
        }
      ]
    },
    {
      "cell_type": "code",
      "source": [
        "nd_financeiros[2, 2] = 10000\n",
        "endividamento_total = (nd_financeiros[:, 0] + nd_financeiros[:, 1]) / nd_financeiros[:, 2]\n",
        "print(endividamento_total)"
      ],
      "metadata": {
        "colab": {
          "base_uri": "https://localhost:8080/"
        },
        "id": "jh3wrSI_hvYA",
        "outputId": "425b22d0-d0a9-4dae-8cbd-886008b9b120"
      },
      "execution_count": 10,
      "outputs": [
        {
          "output_type": "stream",
          "name": "stdout",
          "text": [
            "[0.66666667 0.90909091 0.4        0.9375    ]\n"
          ]
        }
      ]
    },
    {
      "cell_type": "code",
      "source": [
        "dados_financeiros = [[3000, 2500, 1000, 10000],[1000, 2500, 3000, 5000],[6000, 5500, 7000, 16000]]\n",
        "nd_financeiros = np.array(dados_financeiros)\n",
        "\n",
        "print(nd_financeiros)"
      ],
      "metadata": {
        "colab": {
          "base_uri": "https://localhost:8080/"
        },
        "id": "fIaIOoxxiDxw",
        "outputId": "8abcb445-bd33-4db3-ccdc-e13678299ca2"
      },
      "execution_count": 11,
      "outputs": [
        {
          "output_type": "stream",
          "name": "stdout",
          "text": [
            "[[ 3000  2500  1000 10000]\n",
            " [ 1000  2500  3000  5000]\n",
            " [ 6000  5500  7000 16000]]\n"
          ]
        }
      ]
    },
    {
      "cell_type": "code",
      "source": [
        "endividamento_total = (nd_financeiros[0] + nd_financeiros[1]) / nd_financeiros[2]\n",
        "print(endividamento_total)"
      ],
      "metadata": {
        "colab": {
          "base_uri": "https://localhost:8080/"
        },
        "id": "GOaFxQSeiFCU",
        "outputId": "4f51e79a-eed1-48bb-e92e-dad6e1f7b876"
      },
      "execution_count": 12,
      "outputs": [
        {
          "output_type": "stream",
          "name": "stdout",
          "text": [
            "[0.66666667 0.90909091 0.57142857 0.9375    ]\n"
          ]
        }
      ]
    },
    {
      "cell_type": "code",
      "source": [
        "nd_financeiros[2, 2] = 10000\n",
        "endividamento_total = (nd_financeiros[0] + nd_financeiros[1]) / nd_financeiros[2]\n",
        "print(endividamento_total)"
      ],
      "metadata": {
        "colab": {
          "base_uri": "https://localhost:8080/"
        },
        "id": "OzrtaLh_iQNF",
        "outputId": "cc6a5b07-55b4-48ff-d024-eeff8a9d4356"
      },
      "execution_count": 13,
      "outputs": [
        {
          "output_type": "stream",
          "name": "stdout",
          "text": [
            "[0.66666667 0.90909091 0.4        0.9375    ]\n"
          ]
        }
      ]
    },
    {
      "cell_type": "code",
      "source": [
        "# correção do erro de digitação\n",
        "nd_financeiros[2, 2] = 10000\n",
        "\n",
        "# cálculo do endividamento total\n",
        "endividamento_total = (nd_financeiros[:, 0] + nd_financeiros[:, 1]) / nd_financeiros[:, 2]\n",
        "\n",
        "# imprimindo resultados\n",
        "print(endividamento_total)"
      ],
      "metadata": {
        "colab": {
          "base_uri": "https://localhost:8080/"
        },
        "id": "1pFgEHKUiS_b",
        "outputId": "c3148f5e-dce3-4067-dba4-acb40160ea98"
      },
      "execution_count": 14,
      "outputs": [
        {
          "output_type": "stream",
          "name": "stdout",
          "text": [
            "[5.5        1.16666667 1.15      ]\n"
          ]
        }
      ]
    },
    {
      "cell_type": "code",
      "source": [
        "poi = np.random.randint(0, 10, size=(10,))\n",
        "\n",
        "# i) Criando objeto bool_zero\n",
        "bool_zero = poi == 0\n",
        "\n",
        "# ii) Contando valores zero\n",
        "count_zero = sum(bool_zero)\n",
        "\n",
        "# iii) Criando objeto poi_nao_zero\n",
        "poi_nao_zero = poi[~bool_zero]"
      ],
      "metadata": {
        "id": "5dCRE5Qyieli"
      },
      "execution_count": 15,
      "outputs": []
    },
    {
      "cell_type": "code",
      "source": [
        "np.random.seed(1234)\n",
        "poi = np.random.poisson(3, 100)\n",
        "\n",
        "# i)\n",
        "bool_zero = poi == 0\n",
        "\n",
        "# ii)\n",
        "num_zeros = sum(bool_zero)\n",
        "\n",
        "# iii)\n",
        "poi_nao_zero = poi[~bool_zero]"
      ],
      "metadata": {
        "id": "XPdEMUDKi9gp"
      },
      "execution_count": 16,
      "outputs": []
    },
    {
      "cell_type": "code",
      "source": [
        "np.random.seed(1234)\n",
        "poi = np.random.poisson(3, 100)\n",
        "\n",
        "# i)\n",
        "bool_zero = (poi == 0)"
      ],
      "metadata": {
        "id": "ahl-RqKpjKgj"
      },
      "execution_count": 17,
      "outputs": []
    },
    {
      "cell_type": "code",
      "source": [
        "np.random.seed(1234)\n",
        "poi = np.random.poisson(3, 100)\n",
        "\n",
        "# i)\n",
        "bool_zero = (poi == 0)\n",
        "\n",
        "# ii)\n",
        "num_zeros = sum(bool_zero)"
      ],
      "metadata": {
        "id": "OX3rLK94jTGN"
      },
      "execution_count": 18,
      "outputs": []
    },
    {
      "cell_type": "code",
      "source": [
        "np.random.seed(1234)\n",
        "poi = np.random.poisson(3, 100)\n",
        "\n",
        "# i)\n",
        "bool_zero = (poi == 0)\n",
        "\n",
        "# iii)\n",
        "poi_nao_zero = poi[~bool_zero]"
      ],
      "metadata": {
        "id": "JPBuNEpjjb2F"
      },
      "execution_count": 19,
      "outputs": []
    }
  ]
}